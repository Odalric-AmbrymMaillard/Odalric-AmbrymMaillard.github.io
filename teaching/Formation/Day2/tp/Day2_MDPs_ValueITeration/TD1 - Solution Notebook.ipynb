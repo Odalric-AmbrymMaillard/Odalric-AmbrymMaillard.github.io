{
 "cells": [
  {
   "cell_type": "markdown",
   "metadata": {},
   "source": [
    "# Solution - Exercice 5 of TD 1"
   ]
  },
  {
   "cell_type": "markdown",
   "metadata": {},
   "source": [
    "### Check your environment for troubleshooting if necessary"
   ]
  },
  {
   "cell_type": "code",
   "execution_count": 1,
   "metadata": {},
   "outputs": [
    {
     "name": "stdout",
     "output_type": "stream",
     "text": [
      "python :  3.9.1 (default, Dec 13 2020, 11:55:53) \n",
      "[GCC 10.2.0]\n",
      "numpy : 1.19.4\n",
      "gym : 0.18.0\n",
      "matplotlib : 3.3.3\n"
     ]
    }
   ],
   "source": [
    "import gym\n",
    "import numpy as np\n",
    "import matplotlib as mplt\n",
    "import sys\n",
    "\n",
    "print(\"python : \", sys.version)\n",
    "print(\"numpy :\", np.__version__)\n",
    "print(\"gym :\", gym.__version__)\n",
    "print(\"matplotlib :\", mplt.__version__)"
   ]
  },
  {
   "cell_type": "markdown",
   "metadata": {},
   "source": [
    "### Necessary imports"
   ]
  },
  {
   "cell_type": "code",
   "execution_count": 2,
   "metadata": {},
   "outputs": [],
   "source": [
    "import gym\n",
    "import gym.envs.toy_text.frozen_lake as fl\n",
    "import numpy as np\n",
    "import matplotlib.pyplot as plt\n",
    "np.set_printoptions(precision=3)"
   ]
  },
  {
   "cell_type": "markdown",
   "metadata": {},
   "source": [
    "Using [discover.py](https://www.eleves.ens.fr/home/pesquere/MDP_X/discover.py), create the environement."
   ]
  },
  {
   "cell_type": "code",
   "execution_count": 3,
   "metadata": {},
   "outputs": [],
   "source": [
    "# Create environment\n",
    "env = gym.make('FrozenLake-v0')\n",
    "\n",
    "def to_s(row,col):\n",
    "    return row*env.ncol + col\n",
    "\n",
    "def to_row_col(s):\n",
    "    col = s % env.ncol\n",
    "    row = s // env.ncol\n",
    "    return row, col\n",
    "\n",
    "NBR_EPISODES = 100\n",
    "HORIZON = 200\n",
    "GAMMA = 0.9"
   ]
  },
  {
   "cell_type": "markdown",
   "metadata": {},
   "source": [
    "## Question 3"
   ]
  },
  {
   "cell_type": "code",
   "execution_count": 4,
   "metadata": {},
   "outputs": [
    {
     "name": "stdout",
     "output_type": "stream",
     "text": [
      "\n",
      "##### Question 3 #####\n",
      "\n",
      "Monte Carlo estimation of the Value at starting point: 0.020\n"
     ]
    }
   ],
   "source": [
    "##### Question 3 #####\n",
    "print(\"\\n##### Question 3 #####\\n\")\n",
    "\n",
    "VALUE_START = np.zeros(NBR_EPISODES)\n",
    "for i in range(NBR_EPISODES):\n",
    "    env.reset()\n",
    "    done = False\n",
    "    t = 0\n",
    "    discount = 1\n",
    "    while (not done) and (t < HORIZON):\n",
    "        t += 1\n",
    "        discount *= GAMMA\n",
    "        next_state, r, done, _ = env.step(fl.RIGHT)\n",
    "        VALUE_START[i] += discount * r\n",
    "\n",
    "print(f\"Monte Carlo estimation of the Value at starting point: \\\n",
    "{np.mean(VALUE_START):.3f}\")"
   ]
  },
  {
   "cell_type": "markdown",
   "metadata": {},
   "source": [
    "## Question 4"
   ]
  },
  {
   "cell_type": "code",
   "execution_count": 5,
   "metadata": {},
   "outputs": [
    {
     "name": "stdout",
     "output_type": "stream",
     "text": [
      "\n",
      "##### Question 4 #####\n",
      "\n",
      "Value function of the always RIGHT policy:\n",
      "[1.308e-02 1.176e-02 2.744e-02 2.034e-16 1.875e-02 6.168e-17 6.402e-02\n",
      " 2.712e-16 4.944e-02 1.460e-01 1.860e-01 0.000e+00 0.000e+00 3.008e-01\n",
      " 5.559e-01 0.000e+00]\n",
      "Value estimate of the starting point: 0.013\n"
     ]
    }
   ],
   "source": [
    "##### Question 4 #####\n",
    "print(\"\\n##### Question 4 #####\\n\")\n",
    "\n",
    "def value_function(pi):\n",
    "    \"\"\"\n",
    "    pi : int array\n",
    "    For each index i, pi[i] is the action (int) chosen in state i\n",
    "\n",
    "    return:\n",
    "    ------\n",
    "    V_pi : float array\n",
    "    For each index i, V_pi[i] is the value (float) of the state i\n",
    "    \"\"\"\n",
    "    # Compute both the reward vector r_pi and\n",
    "    # transition matrix P_pi associated to the policy on the given env\n",
    "    r_pi = np.zeros((env.nS))\n",
    "    P_pi = np.zeros((env.nS, env.nS))\n",
    "    for state in range(env.nS):\n",
    "        transitions_info = env.P[state][pi[state]]\n",
    "        for transition in transitions_info:\n",
    "            proba = transition[0]\n",
    "            next_state = transition[1]\n",
    "            reward = transition[2]\n",
    "            P_pi[state,next_state] += proba\n",
    "            r_pi[state] += reward*proba\n",
    "    # Compute the value function of the policy pi\n",
    "    Id = np.eye(env.nS)\n",
    "    return np.linalg.inv(Id - GAMMA*P_pi) @ r_pi\n",
    "\n",
    "simple_pi = fl.RIGHT*np.ones((env.nS))\n",
    "\n",
    "V_simple_pi = value_function(simple_pi)\n",
    "print(f\"Value function of the always RIGHT policy:\\n{V_simple_pi}\")\n",
    "print(f\"Value estimate of the starting point: {V_simple_pi[0]:.3f}\")"
   ]
  },
  {
   "cell_type": "markdown",
   "metadata": {},
   "source": [
    "## Question 5"
   ]
  },
  {
   "cell_type": "code",
   "execution_count": 6,
   "metadata": {},
   "outputs": [
    {
     "name": "stdout",
     "output_type": "stream",
     "text": [
      "\n",
      "##### Question 5 #####\n",
      "\n",
      "Value function of the always RIGHT policy:\n",
      "[0.013 0.012 0.027 0.    0.019 0.    0.064 0.    0.049 0.146 0.186 0.\n",
      " 0.    0.301 0.556 0.   ]\n"
     ]
    },
    {
     "data": {
      "image/png": "[encoded data removed]",
      "text/plain": [
       "<Figure size 432x288 with 1 Axes>"
      ]
     },
     "metadata": {
      "needs_background": "light"
     },
     "output_type": "display_data"
    },
    {
     "name": "stdout",
     "output_type": "stream",
     "text": [
      "Number of iterations: 17\n",
      "Last residual 7.988610483180246e-05\n"
     ]
    }
   ],
   "source": [
    "##### Question 5 #####\n",
    "print(\"\\n##### Question 5 #####\\n\")\n",
    "\n",
    "def value_function_2(pi, epsilon, max_iter):\n",
    "    \"\"\"\n",
    "    pi : int array\n",
    "    For each index i, pi[i] is the action (int) chosen in state i\n",
    "\n",
    "    epsilon : float\n",
    "    Used as a threshold for the stopping rule\n",
    "\n",
    "    max_iter : int\n",
    "    Hard threshold on the number of loops\n",
    "\n",
    "    return:\n",
    "    ------\n",
    "    V_pi : float array\n",
    "    For each index i, V_pi[i] is the value (float) of the state i\n",
    "    \"\"\"\n",
    "    # Compute both the reward vector r_pi and\n",
    "    # transition matrix P_pi associated to the policy on the given env\n",
    "    r_pi = np.zeros((env.nS))\n",
    "    P_pi = np.zeros((env.nS, env.nS))\n",
    "    for state in range(env.nS):\n",
    "        transitions_info = env.P[state][pi[state]]\n",
    "        for transition in transitions_info:\n",
    "            proba = transition[0]\n",
    "            next_state = transition[1]\n",
    "            reward = transition[2]\n",
    "            P_pi[state,next_state] += proba\n",
    "            r_pi[state] += reward*proba\n",
    "    # Compute the value function V_pi of the policy pi\n",
    "    V_pi = np.zeros((env.nS))\n",
    "    V_pi_old = np.zeros((env.nS))\n",
    "    delta_linf = np.zeros((max_iter))\n",
    "    stop = False\n",
    "    i = 0\n",
    "    while (not stop) and (i < max_iter):\n",
    "        V_pi = r_pi + GAMMA * (P_pi @ V_pi_old)\n",
    "        delta_linf[i] = np.max(np.abs(V_pi-V_pi_old))\n",
    "        V_pi_old[:] = V_pi\n",
    "        if delta_linf[i]<epsilon:\n",
    "            stop = True\n",
    "            delta_linf = delta_linf[:i+1]\n",
    "        i += 1\n",
    "    return V_pi, delta_linf\n",
    "\n",
    "V_simple_pi, delta_linf = value_function_2(simple_pi, 1e-4, 10000)\n",
    "print(f\"Value function of the always RIGHT policy:\\n{V_simple_pi}\")\n",
    "plt.figure()\n",
    "plt.title(\"Semi-log graph of the infinity norm of difference between \\\n",
    "two iterates\\nThe Linearity of this graph proves exponential convergence\")\n",
    "plt.semilogy(delta_linf)\n",
    "plt.show()\n",
    "print(\"Number of iterations:\", delta_linf.size)\n",
    "print(\"Last residual\", delta_linf[-1])"
   ]
  },
  {
   "cell_type": "markdown",
   "metadata": {},
   "source": [
    "## Question 6"
   ]
  },
  {
   "cell_type": "code",
   "execution_count": 7,
   "metadata": {},
   "outputs": [
    {
     "name": "stdout",
     "output_type": "stream",
     "text": [
      "\n",
      "##### Question 6 #####\n",
      "\n",
      "Optimal value function:\n",
      "[0.068 0.061 0.074 0.055 0.091 0.    0.112 0.    0.145 0.247 0.299 0.\n",
      " 0.    0.38  0.639 0.   ]\n"
     ]
    },
    {
     "data": {
      "image/png": "[encoded data removed]",
      "text/plain": [
       "<Figure size 432x288 with 1 Axes>"
      ]
     },
     "metadata": {
      "needs_background": "light"
     },
     "output_type": "display_data"
    },
    {
     "name": "stdout",
     "output_type": "stream",
     "text": [
      "Number of iterations: 44\n",
      "Last residual 9.272422715012052e-05\n"
     ]
    }
   ],
   "source": [
    "##### Question 6 #####\n",
    "print(\"\\n##### Question 6 #####\\n\")\n",
    "\n",
    "def value_function_optimal(epsilon, max_iter):\n",
    "    \"\"\"\n",
    "    epsilon : float\n",
    "    Used as a threshold for the stopping rule\n",
    "\n",
    "    max_iter : int\n",
    "    Hard threshold on the number of loops\n",
    "\n",
    "    returns:\n",
    "    -------\n",
    "    V_opt : float array, (env.nS,) size\n",
    "    Optimal value function on the FrozenLake MDP given a discount GAMMA\n",
    "    V_opt[state index] = Value of that state\n",
    "    \"\"\"\n",
    "    V_opt_old = np.zeros((env.nS))\n",
    "    V_opt = np.zeros((env.nS))\n",
    "    delta_linf = np.zeros((max_iter))\n",
    "    i = 0\n",
    "    stop = False\n",
    "    while (not stop) and (i < max_iter):\n",
    "        for state in range(env.nS):\n",
    "            # Q is the local (slice) state-action value function for 'state'\n",
    "            Q = np.zeros((env.nA))\n",
    "            for action in range(env.nA):\n",
    "                transitions_info = env.P[state][action]\n",
    "                for transition in transitions_info:\n",
    "                    proba  = transition[0]\n",
    "                    next_state = transition[1]\n",
    "                    reward  = transition[2]\n",
    "                    Q[action] += proba*(reward + GAMMA*V_opt_old[next_state])\n",
    "            V_opt[state] = np.max(Q)\n",
    "        delta_linf[i] = np.max(np.abs(V_opt_old-V_opt))\n",
    "        np.copyto(V_opt_old, V_opt)\n",
    "        if delta_linf[i] < epsilon:\n",
    "            delta_linf = delta_linf[:i+1]\n",
    "            stop = True\n",
    "        i += 1\n",
    "    return V_opt, delta_linf\n",
    "\n",
    "V_opt, delta_linf = value_function_optimal(1e-4, 10000)\n",
    "print(f\"Optimal value function:\\n{V_opt}\")\n",
    "plt.figure()\n",
    "plt.title(\"Semi-log graph of the infinity norm of difference between \\\n",
    "two iterates\\nThe Linearity of this graph proves exponential convergence\")\n",
    "plt.semilogy(delta_linf)\n",
    "plt.show()\n",
    "print(\"Number of iterations:\", delta_linf.size)\n",
    "print(\"Last residual\", delta_linf[-1])"
   ]
  },
  {
   "cell_type": "markdown",
   "metadata": {},
   "source": [
    "## Question 7"
   ]
  },
  {
   "cell_type": "code",
   "execution_count": 8,
   "metadata": {},
   "outputs": [
    {
     "name": "stdout",
     "output_type": "stream",
     "text": [
      "\n",
      "##### Question 7 #####\n",
      "\n",
      "Actions index: RIGHT: 2 - LEFT: 0\n",
      "               UP: 3    - DOWN: 1\n",
      "\n",
      "An optimal policy is:\n",
      "\n",
      "0303\n",
      "0000\n",
      "3100\n",
      "0210\n"
     ]
    }
   ],
   "source": [
    "##### Question 7 #####\n",
    "print(\"\\n##### Question 7 #####\\n\")\n",
    "\n",
    "def value_iteration(epsilon,max_iter):\n",
    "    \"\"\"\n",
    "    epsilon : float\n",
    "    Used as a threshold for the stopping rule\n",
    "\n",
    "    max_iter : int\n",
    "    Hard threshold on the number of loops\n",
    "\n",
    "    returns:\n",
    "    -------\n",
    "    pi : int array, size (env.nS,)\n",
    "    An optimal policy\n",
    "    \"\"\"\n",
    "    # Compute the optimal value function\n",
    "    V_opt, _ = value_function_optimal(epsilon,max_iter)\n",
    "\n",
    "    # Compute the state-action value function in order to\n",
    "    # select the/a greedy action in each state.\n",
    "    Q = np.zeros((env.nS, env.nA))\n",
    "    for state in range(env.nS):\n",
    "        for action in range(env.nA):\n",
    "            transitions_info = env.P[state][action]\n",
    "            for transition in transitions_info:\n",
    "                proba  = transition[0]\n",
    "                next_state = transition[1]\n",
    "                reward  = transition[2]\n",
    "                Q[state, action] += proba*(reward + GAMMA*V_opt[next_state])\n",
    "\n",
    "    # Go greedy in the action selection\n",
    "    # 'np.argmax' breaks ties by selecting the minimal index in the array\n",
    "    pi_opt = np.argmax(Q, axis=1)\n",
    "    return pi_opt\n",
    "\n",
    "def print_policy(pi):\n",
    "    for row in range(env.nrow):\n",
    "        for col in range(env.ncol):\n",
    "            print(pi[to_s(row,col)], end='')\n",
    "        print(\"\")\n",
    "\n",
    "print(f\"Actions index: RIGHT: {fl.RIGHT} - LEFT: {fl.LEFT}\")\n",
    "print(f\"               UP: {fl.UP}    - DOWN: {fl.DOWN}\")\n",
    "pi_opt = value_iteration(1e-4, 1000)\n",
    "print(\"\\nAn optimal policy is:\\n\")\n",
    "print_policy(pi_opt)"
   ]
  },
  {
   "cell_type": "markdown",
   "metadata": {},
   "source": [
    "## Question 8"
   ]
  },
  {
   "cell_type": "code",
   "execution_count": 9,
   "metadata": {},
   "outputs": [
    {
     "name": "stdout",
     "output_type": "stream",
     "text": [
      "\n",
      "##### Question 8 #####\n",
      "\n",
      "\n",
      "\n",
      "Actions index: RIGHT: 2 - LEFT: 0\n",
      "               UP: 3    - DOWN: 1\n",
      "\n",
      "An optimal policy is:\n",
      "\n",
      "0303\n",
      "0000\n",
      "3100\n",
      "0210\n"
     ]
    }
   ],
   "source": [
    "##### Question 8 #####\n",
    "print(\"\\n##### Question 8 #####\\n\")\n",
    "\n",
    "# The danger of Policy Iteration lies in the stopping criterion\n",
    "# If not careful, one might end up with an algorithm that does not\n",
    "# terminate and oscillates between optimal policies\n",
    "# Even if it is computationally more expensive, we sometimes rather\n",
    "# compare value functions of the policies than policies from one iterate\n",
    "# to another.\n",
    "\n",
    "# An easy improvement on the following code would be to use\n",
    "# a warm start for policy evaluation steps (if iteration methods is used)\n",
    "# That is to say, using the previously computed value function\n",
    "# as the first step for the next policy evaluation\n",
    "\n",
    "def policy_improvement(V):\n",
    "    \"\"\"\n",
    "    V : float array, size (env.nS,)\n",
    "    Value function of a policy\n",
    "\n",
    "    returns:\n",
    "    -------\n",
    "    pi : int array, size (env.nS,)\n",
    "    A policy that is greedy with respect to V\n",
    "    \"\"\"\n",
    "    # Compute state-value function associated to V\n",
    "    Q = np.zeros((env.nS, env.nA))\n",
    "    for state in range(env.nS):\n",
    "        for action in range(env.nA):\n",
    "            transitions_info = env.P[state][action]\n",
    "            for transition in transitions_info:\n",
    "                proba  = transition[0]\n",
    "                next_state = transition[1]\n",
    "                reward  = transition[2]\n",
    "                Q[state, action] += proba*(reward + GAMMA*V[next_state])\n",
    "    # Compute the/a greedy policy with respect to the Q/V value function\n",
    "    pi = np.argmax(Q, axis=1)\n",
    "    return pi\n",
    "\n",
    "def policy_iteration(epsilon, max_iter):\n",
    "    \"\"\"\n",
    "    epsilon : float\n",
    "    Used as a threshold for the stopping rule\n",
    "\n",
    "    max_iter : int\n",
    "    Hard threshold on the number of loops\n",
    "\n",
    "    returns:\n",
    "    -------\n",
    "    pi : int array, size (env.nS,)\n",
    "    An optimal policy\n",
    "    \"\"\"\n",
    "    pi = np.zeros((env.nS))\n",
    "    pi_old = np.zeros((env.nS))\n",
    "    V_pi = np.zeros((env.nS))\n",
    "    stop = False\n",
    "    i = 0\n",
    "    while (not stop) and (i < max_iter):\n",
    "        pi_old = np.copy(pi)\n",
    "        V_pi_old = np.copy(V_pi)\n",
    "\n",
    "        # policy evaluation\n",
    "        V_pi = value_function(pi) # test value_function_2 too !\n",
    "\n",
    "        # policy improvement\n",
    "        pi = policy_improvement(V_pi)\n",
    "\n",
    "        i += 1\n",
    "        stop = np.array_equal(pi, pi_old)\n",
    "        # or, other criterion\n",
    "        # stop = np.max(np.abs(V_pi - V_pi_old)) < epsilon\n",
    "    return pi\n",
    "\n",
    "print(\"\\n\")\n",
    "print(f\"Actions index: RIGHT: {fl.RIGHT} - LEFT: {fl.LEFT}\")\n",
    "print(f\"               UP: {fl.UP}    - DOWN: {fl.DOWN}\")\n",
    "pi_opt = policy_iteration(1e-4, 1000)\n",
    "print(\"\\nAn optimal policy is:\\n\")\n",
    "print_policy(pi_opt)"
   ]
  },
  {
   "cell_type": "markdown",
   "metadata": {},
   "source": [
    "## Question 9"
   ]
  },
  {
   "cell_type": "code",
   "execution_count": 10,
   "metadata": {},
   "outputs": [
    {
     "name": "stdout",
     "output_type": "stream",
     "text": [
      "\n",
      "##### Question 9 #####\n",
      "\n",
      "Optimal value function:\n",
      "[0.068 0.061 0.074 0.055 0.091 0.    0.112 0.    0.145 0.247 0.299 0.\n",
      " 0.    0.38  0.639 0.   ]\n"
     ]
    },
    {
     "data": {
      "image/png": "[encoded data removed]",
      "text/plain": [
       "<Figure size 432x288 with 1 Axes>"
      ]
     },
     "metadata": {
      "needs_background": "light"
     },
     "output_type": "display_data"
    },
    {
     "name": "stdout",
     "output_type": "stream",
     "text": [
      "Number of iterations: 44\n",
      "Last residual 9.272422715012052e-05\n",
      "\n",
      "\n",
      "Actions index: RIGHT: 2 - LEFT: 0\n",
      "               UP: 3    - DOWN: 1\n",
      "\n",
      "An optimal policy is:\n",
      "\n",
      "0303\n",
      "0000\n",
      "3100\n",
      "0210\n"
     ]
    }
   ],
   "source": [
    "##### Question 9 #####\n",
    "print(\"\\n##### Question 9 #####\\n\")\n",
    "\n",
    "def state_value_function_optimal(epsilon, max_iter):\n",
    "    \"\"\"\n",
    "    epsilon : float\n",
    "    Used as a threshold for the stopping rule\n",
    "\n",
    "    max_iter : int\n",
    "    Hard threshold on the number of loops\n",
    "\n",
    "    returns:\n",
    "    -------\n",
    "    Q_opt : float array, (env.nS, env.nA) size\n",
    "    Optimal state-action value function on the FrozenLake MDP\n",
    "    given a discount GAMMA\n",
    "    Q_opt[state index][action index] = state-action value of that state\n",
    "    \"\"\"\n",
    "    Q_opt_old = np.zeros((env.nS, env.nA))\n",
    "    delta_linf = np.zeros((max_iter))\n",
    "    i = 0\n",
    "    stop = False\n",
    "    while (not stop) and (i < max_iter):\n",
    "        Q_opt = np.zeros((env.nS, env.nA))\n",
    "        for state in range(env.nS):\n",
    "            for action in range(env.nA):\n",
    "                transitions_info = env.P[state][action]\n",
    "                for transition in transitions_info:\n",
    "                    proba  = transition[0]\n",
    "                    next_state = transition[1]\n",
    "                    reward  = transition[2]\n",
    "                    Q_opt[state][action] += proba*(reward + GAMMA*np.max(Q_opt_old[next_state]))\n",
    "        delta_linf[i] = np.max(np.abs(Q_opt_old-Q_opt))\n",
    "        np.copyto(Q_opt_old, Q_opt)\n",
    "        if delta_linf[i] < epsilon:\n",
    "            delta_linf = delta_linf[:i+1]\n",
    "            stop = True\n",
    "        i += 1\n",
    "    return Q_opt, delta_linf\n",
    "\n",
    "Q_opt, delta_linf = state_value_function_optimal(1e-4, 100)\n",
    "# print(Q_opt)\n",
    "V_opt = np.max(Q_opt, axis=1)\n",
    "print(f\"Optimal value function:\\n{V_opt}\")\n",
    "plt.figure()\n",
    "plt.title(\"Semi-log graph of the infinity norm of difference between \\\n",
    "two iterates\\nThe Linearity of this graph proves exponential convergence\")\n",
    "plt.semilogy(delta_linf)\n",
    "plt.show()\n",
    "print(\"Number of iterations:\", delta_linf.size)\n",
    "print(\"Last residual\", delta_linf[-1])\n",
    "\n",
    "def Q_learning(epsilon, max_iter):\n",
    "    \"\"\"\n",
    "    epsilon : float\n",
    "    Used as a threshold for the stopping rule\n",
    "\n",
    "    max_iter : int\n",
    "    Hard threshold on the number of loops\n",
    "\n",
    "    returns:\n",
    "    -------\n",
    "    pi_opt : int array, size (env.nS,)\n",
    "    An optimal policy\n",
    "    \"\"\"\n",
    "    Q_opt, _ = state_value_function_optimal(1e-4, 100)\n",
    "    pi_opt = np.argamax(Q_opt, axis=1)\n",
    "    return pi_opt\n",
    "\n",
    "print(\"\\n\")\n",
    "print(f\"Actions index: RIGHT: {fl.RIGHT} - LEFT: {fl.LEFT}\")\n",
    "print(f\"               UP: {fl.UP}    - DOWN: {fl.DOWN}\")\n",
    "pi_opt = value_iteration(1e-4, 1000)\n",
    "print(\"\\nAn optimal policy is:\\n\")\n",
    "print_policy(pi_opt)"
   ]
  }
 ],
 "metadata": {
  "kernelspec": {
   "display_name": "Python 3",
   "language": "python",
   "name": "python3"
  },
  "language_info": {
   "codemirror_mode": {
    "name": "ipython",
    "version": 3
   },
   "file_extension": ".py",
   "mimetype": "text/x-python",
   "name": "python",
   "nbconvert_exporter": "python",
   "pygments_lexer": "ipython3",
   "version": "3.9.1"
  }
 },
 "nbformat": 4,
 "nbformat_minor": 4
}
